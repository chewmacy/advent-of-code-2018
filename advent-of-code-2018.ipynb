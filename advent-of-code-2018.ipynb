{
 "cells": [
  {
   "cell_type": "markdown",
   "metadata": {},
   "source": [
    "# Advent of Code 2018"
   ]
  },
  {
   "cell_type": "code",
   "execution_count": 3,
   "metadata": {},
   "outputs": [],
   "source": [
    "TESTS = \"/Users/isabeldias/Documents/GitHub/AdventOfCode2018/input-files\""
   ]
  },
  {
   "cell_type": "markdown",
   "metadata": {},
   "source": [
    "### Day 1: Chronal Calibration"
   ]
  },
  {
   "cell_type": "markdown",
   "metadata": {},
   "source": [
    "##### Part 1"
   ]
  },
  {
   "cell_type": "code",
   "execution_count": 4,
   "metadata": {},
   "outputs": [],
   "source": [
    "def day01_pt1(path):\n",
    "    file = open(path, \"r\")\n",
    "    f = 0\n",
    "    for line in file:\n",
    "        f += int(line)\n",
    "    return f        "
   ]
  },
  {
   "cell_type": "code",
   "execution_count": 5,
   "metadata": {},
   "outputs": [
    {
     "name": "stdout",
     "output_type": "stream",
     "text": [
      "510\n"
     ]
    }
   ],
   "source": [
    "print(day01_pt1(TESTS + \"/day01.txt\"))"
   ]
  },
  {
   "cell_type": "markdown",
   "metadata": {},
   "source": [
    "##### Part 2"
   ]
  },
  {
   "cell_type": "code",
   "execution_count": 8,
   "metadata": {},
   "outputs": [],
   "source": [
    "def run_file(path, f, lst_f):\n",
    "    file = open(path, \"r\")\n",
    "    for line in file:\n",
    "        f += int(line)\n",
    "        if f in lst_f:\n",
    "            return f, lst_f, True\n",
    "        lst_f.append(f)\n",
    "    return f, lst_f, False\n",
    "    \n",
    "def day01_pt2(path):\n",
    "    f = 0\n",
    "    lst_f = []\n",
    "    \n",
    "    while True:\n",
    "        f, lst_f, is_done = run_file(path, f, lst_f)\n",
    "        if is_done:\n",
    "            return f\n",
    "    return 0\n",
    "            "
   ]
  },
  {
   "cell_type": "code",
   "execution_count": 9,
   "metadata": {
    "scrolled": true
   },
   "outputs": [
    {
     "name": "stdout",
     "output_type": "stream",
     "text": [
      "69074\n"
     ]
    }
   ],
   "source": [
    "print(day01_pt2(TESTS + \"/day01.txt\"))"
   ]
  },
  {
   "cell_type": "code",
   "execution_count": null,
   "metadata": {},
   "outputs": [],
   "source": []
  }
 ],
 "metadata": {
  "kernelspec": {
   "display_name": "Python 3",
   "language": "python",
   "name": "python3"
  },
  "language_info": {
   "codemirror_mode": {
    "name": "ipython",
    "version": 3
   },
   "file_extension": ".py",
   "mimetype": "text/x-python",
   "name": "python",
   "nbconvert_exporter": "python",
   "pygments_lexer": "ipython3",
   "version": "3.6.4"
  }
 },
 "nbformat": 4,
 "nbformat_minor": 2
}
