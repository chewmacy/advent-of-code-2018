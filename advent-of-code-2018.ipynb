{
 "cells": [
  {
   "cell_type": "markdown",
   "metadata": {},
   "source": [
    "# Advent of Code 2018"
   ]
  },
  {
   "cell_type": "code",
   "execution_count": 10,
   "metadata": {},
   "outputs": [],
   "source": [
    "TESTS = \"/Users/isabeldias/Documents/GitHub/advent-of-code-2018/input-files\""
   ]
  },
  {
   "cell_type": "code",
   "execution_count": 11,
   "metadata": {},
   "outputs": [],
   "source": [
    "from collections import Counter"
   ]
  },
  {
   "cell_type": "markdown",
   "metadata": {},
   "source": [
    "### Day 1: Chronal Calibration"
   ]
  },
  {
   "cell_type": "markdown",
   "metadata": {},
   "source": [
    "##### Part 1"
   ]
  },
  {
   "cell_type": "code",
   "execution_count": 2,
   "metadata": {},
   "outputs": [],
   "source": [
    "def day01_pt1(path):\n",
    "    file = open(path, \"r\")\n",
    "    f = 0\n",
    "    for line in file:\n",
    "        f += int(line)\n",
    "    return f        "
   ]
  },
  {
   "cell_type": "code",
   "execution_count": 3,
   "metadata": {},
   "outputs": [
    {
     "ename": "FileNotFoundError",
     "evalue": "[Errno 2] No such file or directory: '/Users/isabeldias/Documents/GitHub/AdventOfCode2018/input-files/day01.txt'",
     "output_type": "error",
     "traceback": [
      "\u001b[0;31m---------------------------------------------------------------------------\u001b[0m",
      "\u001b[0;31mFileNotFoundError\u001b[0m                         Traceback (most recent call last)",
      "\u001b[0;32m<ipython-input-3-3ca6fcafaae9>\u001b[0m in \u001b[0;36m<module>\u001b[0;34m()\u001b[0m\n\u001b[0;32m----> 1\u001b[0;31m \u001b[0mprint\u001b[0m\u001b[0;34m(\u001b[0m\u001b[0mday01_pt1\u001b[0m\u001b[0;34m(\u001b[0m\u001b[0mTESTS\u001b[0m \u001b[0;34m+\u001b[0m \u001b[0;34m\"/day01.txt\"\u001b[0m\u001b[0;34m)\u001b[0m\u001b[0;34m)\u001b[0m\u001b[0;34m\u001b[0m\u001b[0m\n\u001b[0m",
      "\u001b[0;32m<ipython-input-2-2c052255f141>\u001b[0m in \u001b[0;36mday01_pt1\u001b[0;34m(path)\u001b[0m\n\u001b[1;32m      1\u001b[0m \u001b[0;32mdef\u001b[0m \u001b[0mday01_pt1\u001b[0m\u001b[0;34m(\u001b[0m\u001b[0mpath\u001b[0m\u001b[0;34m)\u001b[0m\u001b[0;34m:\u001b[0m\u001b[0;34m\u001b[0m\u001b[0m\n\u001b[0;32m----> 2\u001b[0;31m     \u001b[0mfile\u001b[0m \u001b[0;34m=\u001b[0m \u001b[0mopen\u001b[0m\u001b[0;34m(\u001b[0m\u001b[0mpath\u001b[0m\u001b[0;34m,\u001b[0m \u001b[0;34m\"r\"\u001b[0m\u001b[0;34m)\u001b[0m\u001b[0;34m\u001b[0m\u001b[0m\n\u001b[0m\u001b[1;32m      3\u001b[0m     \u001b[0mf\u001b[0m \u001b[0;34m=\u001b[0m \u001b[0;36m0\u001b[0m\u001b[0;34m\u001b[0m\u001b[0m\n\u001b[1;32m      4\u001b[0m     \u001b[0;32mfor\u001b[0m \u001b[0mline\u001b[0m \u001b[0;32min\u001b[0m \u001b[0mfile\u001b[0m\u001b[0;34m:\u001b[0m\u001b[0;34m\u001b[0m\u001b[0m\n\u001b[1;32m      5\u001b[0m         \u001b[0mf\u001b[0m \u001b[0;34m+=\u001b[0m \u001b[0mint\u001b[0m\u001b[0;34m(\u001b[0m\u001b[0mline\u001b[0m\u001b[0;34m)\u001b[0m\u001b[0;34m\u001b[0m\u001b[0m\n",
      "\u001b[0;31mFileNotFoundError\u001b[0m: [Errno 2] No such file or directory: '/Users/isabeldias/Documents/GitHub/AdventOfCode2018/input-files/day01.txt'"
     ]
    }
   ],
   "source": [
    "print(day01_pt1(TESTS + \"/day01.txt\"))"
   ]
  },
  {
   "cell_type": "markdown",
   "metadata": {},
   "source": [
    "##### Part 2"
   ]
  },
  {
   "cell_type": "code",
   "execution_count": 8,
   "metadata": {},
   "outputs": [],
   "source": [
    "def run_file(path, f, lst_f):\n",
    "    file = open(path, \"r\")\n",
    "    for line in file:\n",
    "        f += int(line)\n",
    "        if f in lst_f:\n",
    "            return f, lst_f, True\n",
    "        lst_f.append(f)\n",
    "    return f, lst_f, False\n",
    "    \n",
    "def day01_pt2(path):\n",
    "    f = 0\n",
    "    lst_f = []\n",
    "    \n",
    "    while True:\n",
    "        f, lst_f, is_done = run_file(path, f, lst_f)\n",
    "        if is_done:\n",
    "            return f\n",
    "    return 0\n",
    "            "
   ]
  },
  {
   "cell_type": "code",
   "execution_count": 9,
   "metadata": {
    "scrolled": true
   },
   "outputs": [
    {
     "name": "stdout",
     "output_type": "stream",
     "text": [
      "69074\n"
     ]
    }
   ],
   "source": [
    "print(day01_pt2(TESTS + \"/day01.txt\"))"
   ]
  },
  {
   "cell_type": "markdown",
   "metadata": {},
   "source": [
    "### Day 2: Inventory Management System"
   ]
  },
  {
   "cell_type": "raw",
   "metadata": {},
   "source": [
    "Part 1"
   ]
  },
  {
   "cell_type": "code",
   "execution_count": 14,
   "metadata": {},
   "outputs": [],
   "source": [
    "def day02_pt1(path):\n",
    "    file = open(path, \"r\")\n",
    "    \n",
    "    two = 0\n",
    "    three = 0\n",
    "    \n",
    "    for line in file:\n",
    "        two_f = True\n",
    "        three_f = True\n",
    "        for key, value in Counter(line).items():\n",
    "            if value == 2 and two_f:\n",
    "                two += 1\n",
    "                two_f = False\n",
    "            elif value == 3 and three_f:\n",
    "                three += 1\n",
    "                three_f = False\n",
    "        \n",
    "    return two * three\n",
    "        "
   ]
  },
  {
   "cell_type": "code",
   "execution_count": 15,
   "metadata": {},
   "outputs": [
    {
     "name": "stdout",
     "output_type": "stream",
     "text": [
      "7350\n"
     ]
    }
   ],
   "source": [
    "print(day02_pt1(TESTS + \"/day02.txt\"))"
   ]
  },
  {
   "cell_type": "raw",
   "metadata": {},
   "source": [
    "Part 2"
   ]
  },
  {
   "cell_type": "code",
   "execution_count": 42,
   "metadata": {},
   "outputs": [],
   "source": [
    "def day02_pt2(path):\n",
    "    \n",
    "    l1 = \"\"\n",
    "    l2 = \"\"\n",
    "    diff = 0\n",
    "    \n",
    "    for line1 in open(path, \"r\"):\n",
    "        for line2 in open(path, \"r\"):\n",
    "            if line1 != line2:\n",
    "                diff = 0\n",
    "                for i, j in zip(line1, line2):\n",
    "                    if i != j:\n",
    "                        diff += 1         \n",
    "            if diff < 2:\n",
    "                l1 = line1\n",
    "                l2 = line2\n",
    "                break\n",
    "    \n",
    "    final_word = \"\"\n",
    "    cmp = zip(l1, l2)\n",
    "    \n",
    "    for i, j in cmp:\n",
    "        if i == j:\n",
    "            final_word += i\n",
    "    \n",
    "    return final_word"
   ]
  },
  {
   "cell_type": "code",
   "execution_count": 43,
   "metadata": {},
   "outputs": [
    {
     "name": "stdout",
     "output_type": "stream",
     "text": [
      "wmlnjevbfodamyiqpucrhsukg\n",
      "\n"
     ]
    }
   ],
   "source": [
    "print(day02_pt2(TESTS + \"/day02.txt\"))"
   ]
  },
  {
   "cell_type": "code",
   "execution_count": null,
   "metadata": {},
   "outputs": [],
   "source": []
  }
 ],
 "metadata": {
  "kernelspec": {
   "display_name": "Python 3",
   "language": "python",
   "name": "python3"
  },
  "language_info": {
   "codemirror_mode": {
    "name": "ipython",
    "version": 3
   },
   "file_extension": ".py",
   "mimetype": "text/x-python",
   "name": "python",
   "nbconvert_exporter": "python",
   "pygments_lexer": "ipython3",
   "version": "3.6.4"
  }
 },
 "nbformat": 4,
 "nbformat_minor": 2
}
